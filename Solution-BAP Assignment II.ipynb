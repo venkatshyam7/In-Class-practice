{
 "cells": [
  {
   "cell_type": "markdown",
   "metadata": {},
   "source": [
    "### SCH-MGMT 697P Business Applications of Python\n",
    "### Assignment II:  Functions \n",
    "### Due: Monday 03-18 at 12am\n",
    "Please complete these exercises to the best of your abilities.  Please include code to invoke each of your functions to demonstrate the functionality.  Write comments throughout your code to explain steps.  If you run into a persistent error, please demonstrate your efforts to resolve it; search the web for the error, see if you can get closer to figuring it out.  Document what you tried in order to fix the problem. "
   ]
  },
  {
   "cell_type": "markdown",
   "metadata": {},
   "source": [
    "#### Problem 1 (6 points)\n",
    "a. Write a basic function to print the statment \"I can't get enough Python!\""
   ]
  },
  {
   "cell_type": "markdown",
   "metadata": {},
   "source": [
    "b. Write a basic function that accepts a name argument and prints \"(name) can't get enough Python!\""
   ]
  },
  {
   "cell_type": "code",
   "execution_count": 1,
   "metadata": {
    "scrolled": true
   },
   "outputs": [
    {
     "name": "stdout",
     "output_type": "stream",
     "text": [
      "I can't get enough Python!\n",
      "None\n",
      "Joe can't get enough Python!\n",
      "None\n"
     ]
    }
   ],
   "source": [
    "# a.\n",
    "def statement():\n",
    "    print(\"I can't get enough Python!\")\n",
    "\n",
    "print(statement())\n",
    "\n",
    "# b. \n",
    "def statement(name):\n",
    "    print(name, \"can't get enough Python!\")\n",
    "\n",
    "print(statement(\"Joe\"))"
   ]
  },
  {
   "cell_type": "markdown",
   "metadata": {},
   "source": [
    "#### Problem 2 (8 points)\n",
    "Write a function that accepts the purchase price of a stock and a closing price and returns the percent change.  "
   ]
  },
  {
   "cell_type": "code",
   "execution_count": 4,
   "metadata": {},
   "outputs": [
    {
     "name": "stdout",
     "output_type": "stream",
     "text": [
      "The percent change is 170.58823529411762 %\n"
     ]
    },
    {
     "data": {
      "text/plain": [
       "170.58823529411762"
      ]
     },
     "execution_count": 4,
     "metadata": {},
     "output_type": "execute_result"
    }
   ],
   "source": [
    "def percent_change(start, end):\n",
    "    change=(end-start)/start*100\n",
    "    print(\"The percent change is\", change, \"%\")\n",
    "    return change\n",
    "\n",
    "# test\n",
    "purchase=3.4\n",
    "close=9.2\n",
    "percent_change(purchase, close)"
   ]
  },
  {
   "cell_type": "markdown",
   "metadata": {},
   "source": [
    "#### Problem 3 (8 points)\n",
    "Write a function that accepts a list of data values and returns a summary that includes the mean, standard deviation, minimum, 25th percentile, median, 75th percentile, and maximum. You will need to import the numpy library in order to calculate the percentile.  Do a little bit of research.  In your function, also include a print statement that makes the output more meaningful.  "
   ]
  },
  {
   "cell_type": "code",
   "execution_count": 3,
   "metadata": {},
   "outputs": [
    {
     "data": {
      "text/plain": [
       "(10.7, 6.13713650202148, 4.5, 6.2, 8.4, 11.6, 24.3)"
      ]
     },
     "execution_count": 3,
     "metadata": {},
     "output_type": "execute_result"
    }
   ],
   "source": [
    "from numpy import mean, std, amin, amax, percentile, median\n",
    "\n",
    "def summary(data):\n",
    "    m=mean(data)\n",
    "    sd=std(data)\n",
    "    low=amin(data)\n",
    "    q1=percentile(data, 25)\n",
    "    med=median(data)\n",
    "    q3=percentile(data, 75)\n",
    "    high=amax(data)\n",
    "    return m, sd, low, q1, med, q3, high \n",
    "\n",
    "# test\n",
    "data = [4.5, 6, 7, 18, 6.2, 11.6, 24.3, 8.4, 10.3]\n",
    "summary(data)\n"
   ]
  },
  {
   "cell_type": "markdown",
   "metadata": {},
   "source": [
    "#### Problem 4 (8 points)\n",
    "Write a function that accepts a price for a restaurant bill, a sales tax, and a tip.  The function should calculate and return the amount a customer will have to pay after adding the sales tax and tip.  Make the default sales tax .0625 and the default tip .15. "
   ]
  },
  {
   "cell_type": "code",
   "execution_count": 4,
   "metadata": {},
   "outputs": [
    {
     "name": "stdout",
     "output_type": "stream",
     "text": [
      "24.437499999999996\n",
      "25.605999999999998\n"
     ]
    }
   ],
   "source": [
    "def calculate_bill(price, tax=.0625, tip=.15):\n",
    "    taxed=price*(1+tax)\n",
    "    bill=taxed*(1+tip)\n",
    "    return bill\n",
    "    \n",
    "# test\n",
    "price=20\n",
    "print(calculate_bill(20))\n",
    "print(calculate_bill(20, .085, .18))"
   ]
  },
  {
   "cell_type": "markdown",
   "metadata": {},
   "source": [
    "#### Problem 5 (8 points)\n",
    "Research local and global variables in Python.  Write a brief summary of what they are and provide a simple example to demonstrate. \n",
    "\n",
    "#### Summary\n",
    "(3-4 sentences)\n",
    "\n",
    "Global variables are defined and can be accessed throughout an entire python program.  Local variables are defined and can only be accessed within a smaller context such as a function.  A function will naturally look to the variables defined within its scope rather than those defined in the global scope as the following example from https://www.geeksforgeeks.org/global-local-variables-python/ illustrates. "
   ]
  },
  {
   "cell_type": "code",
   "execution_count": 5,
   "metadata": {},
   "outputs": [
    {
     "name": "stdout",
     "output_type": "stream",
     "text": [
      "Me too.\n",
      "I love Geeksforgeeks\n"
     ]
    }
   ],
   "source": [
    "#  Example from Geeks for Geeks\n",
    "\n",
    "# This function has a variable with \n",
    "# name same as s. \n",
    "def f():  \n",
    "    s = \"Me too.\"\n",
    "    print(s)\n",
    "\n",
    "# Global scope \n",
    "s = \"I love Geeksforgeeks\" \n",
    "f() \n",
    "print(s) "
   ]
  },
  {
   "cell_type": "markdown",
   "metadata": {},
   "source": [
    "#### Problem 6 (8 points)\n",
    "Write a function that takes in the purchase price and the current price of a certain stock.  If the stock's value has decreased by more than 10% or increased by more than 20%, return True.   Otherwise return False. "
   ]
  },
  {
   "cell_type": "code",
   "execution_count": 6,
   "metadata": {},
   "outputs": [
    {
     "name": "stdout",
     "output_type": "stream",
     "text": [
      "True\n",
      "True\n",
      "False\n"
     ]
    }
   ],
   "source": [
    "def check_price(purchase, current):\n",
    "    if current<purchase*.9 or current>purchase*1.2:\n",
    "        return True\n",
    "    else: \n",
    "        return False\n",
    "    \n",
    "# test\n",
    "purchase=10\n",
    "current=13\n",
    "print(check_price(purchase, current))\n",
    "purchase=10\n",
    "current=8.5\n",
    "print(check_price(purchase, current))\n",
    "purchase=10\n",
    "current=9.5\n",
    "print(check_price(purchase, current))"
   ]
  },
  {
   "cell_type": "markdown",
   "metadata": {},
   "source": [
    "#### Problem 7 (8 points)\n",
    "Break down this problem using print() statements to understand what's going on.  Then, add comments to the code to explain each step.  Make sure to look up the while() method to understand how it works. "
   ]
  },
  {
   "cell_type": "code",
   "execution_count": 3,
   "metadata": {},
   "outputs": [
    {
     "name": "stdout",
     "output_type": "stream",
     "text": [
      "Num: 12345\n",
      "Num%10: 5\n",
      "Reversed: 0\n",
      "Current Reversed: 5\n",
      "Num: 1234\n",
      "Num%10: 4\n",
      "Reversed: 5\n",
      "Current Reversed: 54\n",
      "Num: 123\n",
      "Num%10: 3\n",
      "Reversed: 54\n",
      "Current Reversed: 543\n",
      "Num: 12\n",
      "Num%10: 2\n",
      "Reversed: 543\n",
      "Current Reversed: 5432\n",
      "Num: 1\n",
      "Num%10: 1\n",
      "Reversed: 5432\n",
      "Current Reversed: 54321\n"
     ]
    },
    {
     "data": {
      "text/plain": [
       "54321"
      ]
     },
     "execution_count": 3,
     "metadata": {},
     "output_type": "execute_result"
    }
   ],
   "source": [
    "def reverse_number(num):\n",
    "    reversed=0\n",
    "    # as long as num>0, run the following statements, while condition checked after each run of the loop\n",
    "    while(num>0):\n",
    "        # get the remainder after dividing num by 10\n",
    "        remainder=num%10\n",
    "        print(\"Num:\", num)\n",
    "        print(\"Num%10:\", remainder)\n",
    "        print(\"Reversed:\", reversed)\n",
    "        # set the reversed variable equal to its current value times 10 plus the remainder after dividing num by 10\n",
    "        reversed=reversed*10+remainder\n",
    "        print(\"Current Reversed:\", reversed)\n",
    "        # use integer division to remove the last digit of num\n",
    "        num=num//10\n",
    "    return reversed\n",
    "\n",
    "# test \n",
    "num=12345\n",
    "reverse_number(num)"
   ]
  },
  {
   "cell_type": "markdown",
   "metadata": {},
   "source": [
    "#### Problem 8  - *challenge*\n",
    "Write a function that accepts a positive number and formats it into a string in monetary format correctly representing the dollar and cent amounts.   For example:\n",
    "\n",
    "```\n",
    "money_format(3510000.159897)\n",
    "```\n",
    "should return\n",
    "```\n",
    "  '3,510,000.16'\n",
    "```\n",
    "\n",
    "See https://www.geeksforgeeks.org/python-format-function/"
   ]
  },
  {
   "cell_type": "code",
   "execution_count": 8,
   "metadata": {},
   "outputs": [
    {
     "data": {
      "text/plain": [
       "'$3,510,000.16'"
      ]
     },
     "execution_count": 8,
     "metadata": {},
     "output_type": "execute_result"
    }
   ],
   "source": [
    "def money_format(amount):\n",
    "    if amount >= 0:\n",
    "        return '${:,.2f}'.format(amount)\n",
    "    else:\n",
    "        return '-${:,.2f}'.format(-amount)\n",
    "    \n",
    "# Test\n",
    "money_format(3510000.159897)"
   ]
  },
  {
   "cell_type": "markdown",
   "metadata": {},
   "source": [
    "#### Problem 9 (8 points)\n",
    "This problem is designed to expand our understanding of lists.  Please take a little time to research list methods in python.  Look up and demonstrate the following list methods with simple examples.  \n",
    "\n",
    "a.  Create an empty list  \n",
    "\n",
    "b.  Add an item to a list  \n",
    "\n",
    "c.  Take off the last item in a list\n",
    "\n",
    "d.   Insert an item into a list at a specific index\n",
    "\n",
    "e.  Remove an item at a specific index  \n"
   ]
  },
  {
   "cell_type": "code",
   "execution_count": 9,
   "metadata": {},
   "outputs": [
    {
     "name": "stdout",
     "output_type": "stream",
     "text": [
      "[1, 2, 3, 4, 5, 6]\n",
      "[1, 2, 3, 4, 5]\n",
      "[1, 2, 10, 3, 4, 5]\n",
      "[2, 10, 3, 4, 5]\n"
     ]
    }
   ],
   "source": [
    "# a. Create an empty list\n",
    "\n",
    "list=[]\n",
    "\n",
    "# b. Add an item to a list\n",
    "\n",
    "list=[1,2,3,4,5]\n",
    "list.append(6)\n",
    "print(list)\n",
    "\n",
    "# c. Take off the last item from a list\n",
    "\n",
    "list.pop()\n",
    "print(list)\n",
    "\n",
    "# d. Insert an item into a list at a specific index\n",
    "list.insert(2,10)\n",
    "print(list)\n",
    "\n",
    "# possibly better solution\n",
    "# new_list=list[:]\n",
    "# new_list.insert(2,10)\n",
    "# print(new_list)\n",
    "\n",
    "# e. Remove an item at a specific index\n",
    "list.pop(0)\n",
    "print(list)\n",
    "\n",
    "# possibly better solution\n",
    "# new_list=list[:]\n",
    "# new_list.pop(1)\n",
    "# print(new_list)\n"
   ]
  },
  {
   "cell_type": "markdown",
   "metadata": {},
   "source": [
    "#### Problem 10 (8 points)\n",
    "This problem is designed to expand our understanding of dictionaries (called, 'objects', in other programming languages).  Please take a little time to research dictionaries in python.  Look up and demonstrate the following properties of and methods for dictionaries.  \n",
    "\n",
    "a.  Show how to access the value for a specified key, use June for an example.  \n",
    "\n",
    "b.  Print all of the keys for the dictionary shown below\n",
    "\n",
    "c.  Print all of the values for the dictionary shown below.    \n",
    "\n",
    "d.  Demonstrate a method to find how many items are in the dictionary.  \n",
    "\n",
    "e.  Demonstrate a method to add a new key value pair to the dictionary. "
   ]
  },
  {
   "cell_type": "code",
   "execution_count": 10,
   "metadata": {},
   "outputs": [
    {
     "data": {
      "text/plain": [
       "{'January': 31,\n",
       " 'February': 28,\n",
       " 'March': 31,\n",
       " 'April': 30,\n",
       " 'May': 31,\n",
       " 'June': 30,\n",
       " 'July': 31,\n",
       " 'August': 31,\n",
       " 'September': 30,\n",
       " 'October': 31,\n",
       " 'November': 30,\n",
       " 'December': 31,\n",
       " 'Month': 31}"
      ]
     },
     "execution_count": 10,
     "metadata": {},
     "output_type": "execute_result"
    }
   ],
   "source": [
    "days = {\n",
    "    'January':31, \n",
    "    'February':28, \n",
    "    'March':31, \n",
    "    'April':30,\n",
    "    'May':31, \n",
    "    'June':30, \n",
    "    'July':31, \n",
    "    'August':31,\n",
    "    'September':30, \n",
    "    'October':31, \n",
    "    'November':30, \n",
    "    'December':31\n",
    "}\n",
    "\n",
    "# a. Show how to access the value for a specified key, use June for an example.\n",
    "days['June']\n",
    "\n",
    "# b. Print all of the keys for the dictionary.\n",
    "days.keys()\n",
    "\n",
    "# c. Print all of the values for the dictionary.\n",
    "days.values()\n",
    "\n",
    "# d. Demonstrate a method to find how many items are in the dictionary.\n",
    "len(days)\n",
    "\n",
    "# e. Demonstrate a method to add a new key value pair to the dictionary.\n",
    "days.update({'Month': 31})\n",
    "days\n"
   ]
  }
 ],
 "metadata": {
  "kernelspec": {
   "display_name": "Python 3",
   "language": "python",
   "name": "python3"
  },
  "language_info": {
   "codemirror_mode": {
    "name": "ipython",
    "version": 3
   },
   "file_extension": ".py",
   "mimetype": "text/x-python",
   "name": "python",
   "nbconvert_exporter": "python",
   "pygments_lexer": "ipython3",
   "version": "3.7.1"
  }
 },
 "nbformat": 4,
 "nbformat_minor": 2
}
